{
 "cells": [
  {
   "cell_type": "markdown",
   "metadata": {},
   "source": [
    "# Import required libraries"
   ]
  },
  {
   "cell_type": "code",
   "execution_count": 3,
   "metadata": {
    "execution": {
     "iopub.execute_input": "2024-06-17T14:09:27.501268Z",
     "iopub.status.busy": "2024-06-17T14:09:27.500555Z",
     "iopub.status.idle": "2024-06-17T14:09:27.508385Z",
     "shell.execute_reply": "2024-06-17T14:09:27.507158Z",
     "shell.execute_reply.started": "2024-06-17T14:09:27.501234Z"
    },
    "tags": []
   },
   "outputs": [],
   "source": [
    "import numpy as np\n",
    "import pandas as pd\n",
    "import matplotlib.pyplot as plt\n",
    "import seaborn as sns\n",
    "from sklearn.model_selection import train_test_split\n",
    "from string import punctuation\n",
    "from nltk.corpus import stopwords\n",
    "from nltk.tokenize import word_tokenize, RegexpTokenizer\n",
    "import tensorflow as tf\n",
    "from tensorflow.keras.preprocessing.text import Tokenizer\n",
    "from tensorflow.keras.preprocessing.sequence import pad_sequences\n",
    "from tensorflow.keras.layers import Embedding, SimpleRNN, Dense\n",
    "from tensorflow.keras.models import Sequential\n",
    "import warnings\n",
    "warnings.filterwarnings(\"ignore\")"
   ]
  },
  {
   "cell_type": "markdown",
   "metadata": {},
   "source": [
    "# Read the dataset"
   ]
  },
  {
   "cell_type": "code",
   "execution_count": 4,
   "metadata": {
    "execution": {
     "iopub.execute_input": "2024-06-17T14:09:29.988721Z",
     "iopub.status.busy": "2024-06-17T14:09:29.988346Z",
     "iopub.status.idle": "2024-06-17T14:09:30.150339Z",
     "shell.execute_reply": "2024-06-17T14:09:30.148966Z",
     "shell.execute_reply.started": "2024-06-17T14:09:29.988692Z"
    },
    "tags": []
   },
   "outputs": [
    {
     "ename": "FileNotFoundError",
     "evalue": "[Errno 2] No such file or directory: 'C:/Users/Administrator/Downloads/archive (2)/training.1600000.processed.noemoticon.csv'",
     "output_type": "error",
     "traceback": [
      "\u001b[0;31m---------------------------------------------------------------------------\u001b[0m",
      "\u001b[0;31mFileNotFoundError\u001b[0m                         Traceback (most recent call last)",
      "Cell \u001b[0;32mIn[4], line 1\u001b[0m\n\u001b[0;32m----> 1\u001b[0m df \u001b[38;5;241m=\u001b[39m \u001b[43mpd\u001b[49m\u001b[38;5;241;43m.\u001b[39;49m\u001b[43mread_csv\u001b[49m\u001b[43m(\u001b[49m\u001b[38;5;124;43m\"\u001b[39;49m\u001b[38;5;124;43mC:/Users/Administrator/Downloads/archive (2)/training.1600000.processed.noemoticon.csv\u001b[39;49m\u001b[38;5;124;43m\"\u001b[39;49m\u001b[43m,\u001b[49m\u001b[43mencoding\u001b[49m\u001b[38;5;241;43m=\u001b[39;49m\u001b[38;5;124;43m'\u001b[39;49m\u001b[38;5;124;43mlatin1\u001b[39;49m\u001b[38;5;124;43m'\u001b[39;49m\u001b[43m)\u001b[49m\n",
      "File \u001b[0;32m/opt/conda/lib/python3.10/site-packages/pandas/io/parsers/readers.py:1026\u001b[0m, in \u001b[0;36mread_csv\u001b[0;34m(filepath_or_buffer, sep, delimiter, header, names, index_col, usecols, dtype, engine, converters, true_values, false_values, skipinitialspace, skiprows, skipfooter, nrows, na_values, keep_default_na, na_filter, verbose, skip_blank_lines, parse_dates, infer_datetime_format, keep_date_col, date_parser, date_format, dayfirst, cache_dates, iterator, chunksize, compression, thousands, decimal, lineterminator, quotechar, quoting, doublequote, escapechar, comment, encoding, encoding_errors, dialect, on_bad_lines, delim_whitespace, low_memory, memory_map, float_precision, storage_options, dtype_backend)\u001b[0m\n\u001b[1;32m   1013\u001b[0m kwds_defaults \u001b[38;5;241m=\u001b[39m _refine_defaults_read(\n\u001b[1;32m   1014\u001b[0m     dialect,\n\u001b[1;32m   1015\u001b[0m     delimiter,\n\u001b[0;32m   (...)\u001b[0m\n\u001b[1;32m   1022\u001b[0m     dtype_backend\u001b[38;5;241m=\u001b[39mdtype_backend,\n\u001b[1;32m   1023\u001b[0m )\n\u001b[1;32m   1024\u001b[0m kwds\u001b[38;5;241m.\u001b[39mupdate(kwds_defaults)\n\u001b[0;32m-> 1026\u001b[0m \u001b[38;5;28;01mreturn\u001b[39;00m \u001b[43m_read\u001b[49m\u001b[43m(\u001b[49m\u001b[43mfilepath_or_buffer\u001b[49m\u001b[43m,\u001b[49m\u001b[43m \u001b[49m\u001b[43mkwds\u001b[49m\u001b[43m)\u001b[49m\n",
      "File \u001b[0;32m/opt/conda/lib/python3.10/site-packages/pandas/io/parsers/readers.py:620\u001b[0m, in \u001b[0;36m_read\u001b[0;34m(filepath_or_buffer, kwds)\u001b[0m\n\u001b[1;32m    617\u001b[0m _validate_names(kwds\u001b[38;5;241m.\u001b[39mget(\u001b[38;5;124m\"\u001b[39m\u001b[38;5;124mnames\u001b[39m\u001b[38;5;124m\"\u001b[39m, \u001b[38;5;28;01mNone\u001b[39;00m))\n\u001b[1;32m    619\u001b[0m \u001b[38;5;66;03m# Create the parser.\u001b[39;00m\n\u001b[0;32m--> 620\u001b[0m parser \u001b[38;5;241m=\u001b[39m \u001b[43mTextFileReader\u001b[49m\u001b[43m(\u001b[49m\u001b[43mfilepath_or_buffer\u001b[49m\u001b[43m,\u001b[49m\u001b[43m \u001b[49m\u001b[38;5;241;43m*\u001b[39;49m\u001b[38;5;241;43m*\u001b[39;49m\u001b[43mkwds\u001b[49m\u001b[43m)\u001b[49m\n\u001b[1;32m    622\u001b[0m \u001b[38;5;28;01mif\u001b[39;00m chunksize \u001b[38;5;129;01mor\u001b[39;00m iterator:\n\u001b[1;32m    623\u001b[0m     \u001b[38;5;28;01mreturn\u001b[39;00m parser\n",
      "File \u001b[0;32m/opt/conda/lib/python3.10/site-packages/pandas/io/parsers/readers.py:1620\u001b[0m, in \u001b[0;36mTextFileReader.__init__\u001b[0;34m(self, f, engine, **kwds)\u001b[0m\n\u001b[1;32m   1617\u001b[0m     \u001b[38;5;28mself\u001b[39m\u001b[38;5;241m.\u001b[39moptions[\u001b[38;5;124m\"\u001b[39m\u001b[38;5;124mhas_index_names\u001b[39m\u001b[38;5;124m\"\u001b[39m] \u001b[38;5;241m=\u001b[39m kwds[\u001b[38;5;124m\"\u001b[39m\u001b[38;5;124mhas_index_names\u001b[39m\u001b[38;5;124m\"\u001b[39m]\n\u001b[1;32m   1619\u001b[0m \u001b[38;5;28mself\u001b[39m\u001b[38;5;241m.\u001b[39mhandles: IOHandles \u001b[38;5;241m|\u001b[39m \u001b[38;5;28;01mNone\u001b[39;00m \u001b[38;5;241m=\u001b[39m \u001b[38;5;28;01mNone\u001b[39;00m\n\u001b[0;32m-> 1620\u001b[0m \u001b[38;5;28mself\u001b[39m\u001b[38;5;241m.\u001b[39m_engine \u001b[38;5;241m=\u001b[39m \u001b[38;5;28;43mself\u001b[39;49m\u001b[38;5;241;43m.\u001b[39;49m\u001b[43m_make_engine\u001b[49m\u001b[43m(\u001b[49m\u001b[43mf\u001b[49m\u001b[43m,\u001b[49m\u001b[43m \u001b[49m\u001b[38;5;28;43mself\u001b[39;49m\u001b[38;5;241;43m.\u001b[39;49m\u001b[43mengine\u001b[49m\u001b[43m)\u001b[49m\n",
      "File \u001b[0;32m/opt/conda/lib/python3.10/site-packages/pandas/io/parsers/readers.py:1880\u001b[0m, in \u001b[0;36mTextFileReader._make_engine\u001b[0;34m(self, f, engine)\u001b[0m\n\u001b[1;32m   1878\u001b[0m     \u001b[38;5;28;01mif\u001b[39;00m \u001b[38;5;124m\"\u001b[39m\u001b[38;5;124mb\u001b[39m\u001b[38;5;124m\"\u001b[39m \u001b[38;5;129;01mnot\u001b[39;00m \u001b[38;5;129;01min\u001b[39;00m mode:\n\u001b[1;32m   1879\u001b[0m         mode \u001b[38;5;241m+\u001b[39m\u001b[38;5;241m=\u001b[39m \u001b[38;5;124m\"\u001b[39m\u001b[38;5;124mb\u001b[39m\u001b[38;5;124m\"\u001b[39m\n\u001b[0;32m-> 1880\u001b[0m \u001b[38;5;28mself\u001b[39m\u001b[38;5;241m.\u001b[39mhandles \u001b[38;5;241m=\u001b[39m \u001b[43mget_handle\u001b[49m\u001b[43m(\u001b[49m\n\u001b[1;32m   1881\u001b[0m \u001b[43m    \u001b[49m\u001b[43mf\u001b[49m\u001b[43m,\u001b[49m\n\u001b[1;32m   1882\u001b[0m \u001b[43m    \u001b[49m\u001b[43mmode\u001b[49m\u001b[43m,\u001b[49m\n\u001b[1;32m   1883\u001b[0m \u001b[43m    \u001b[49m\u001b[43mencoding\u001b[49m\u001b[38;5;241;43m=\u001b[39;49m\u001b[38;5;28;43mself\u001b[39;49m\u001b[38;5;241;43m.\u001b[39;49m\u001b[43moptions\u001b[49m\u001b[38;5;241;43m.\u001b[39;49m\u001b[43mget\u001b[49m\u001b[43m(\u001b[49m\u001b[38;5;124;43m\"\u001b[39;49m\u001b[38;5;124;43mencoding\u001b[39;49m\u001b[38;5;124;43m\"\u001b[39;49m\u001b[43m,\u001b[49m\u001b[43m \u001b[49m\u001b[38;5;28;43;01mNone\u001b[39;49;00m\u001b[43m)\u001b[49m\u001b[43m,\u001b[49m\n\u001b[1;32m   1884\u001b[0m \u001b[43m    \u001b[49m\u001b[43mcompression\u001b[49m\u001b[38;5;241;43m=\u001b[39;49m\u001b[38;5;28;43mself\u001b[39;49m\u001b[38;5;241;43m.\u001b[39;49m\u001b[43moptions\u001b[49m\u001b[38;5;241;43m.\u001b[39;49m\u001b[43mget\u001b[49m\u001b[43m(\u001b[49m\u001b[38;5;124;43m\"\u001b[39;49m\u001b[38;5;124;43mcompression\u001b[39;49m\u001b[38;5;124;43m\"\u001b[39;49m\u001b[43m,\u001b[49m\u001b[43m \u001b[49m\u001b[38;5;28;43;01mNone\u001b[39;49;00m\u001b[43m)\u001b[49m\u001b[43m,\u001b[49m\n\u001b[1;32m   1885\u001b[0m \u001b[43m    \u001b[49m\u001b[43mmemory_map\u001b[49m\u001b[38;5;241;43m=\u001b[39;49m\u001b[38;5;28;43mself\u001b[39;49m\u001b[38;5;241;43m.\u001b[39;49m\u001b[43moptions\u001b[49m\u001b[38;5;241;43m.\u001b[39;49m\u001b[43mget\u001b[49m\u001b[43m(\u001b[49m\u001b[38;5;124;43m\"\u001b[39;49m\u001b[38;5;124;43mmemory_map\u001b[39;49m\u001b[38;5;124;43m\"\u001b[39;49m\u001b[43m,\u001b[49m\u001b[43m \u001b[49m\u001b[38;5;28;43;01mFalse\u001b[39;49;00m\u001b[43m)\u001b[49m\u001b[43m,\u001b[49m\n\u001b[1;32m   1886\u001b[0m \u001b[43m    \u001b[49m\u001b[43mis_text\u001b[49m\u001b[38;5;241;43m=\u001b[39;49m\u001b[43mis_text\u001b[49m\u001b[43m,\u001b[49m\n\u001b[1;32m   1887\u001b[0m \u001b[43m    \u001b[49m\u001b[43merrors\u001b[49m\u001b[38;5;241;43m=\u001b[39;49m\u001b[38;5;28;43mself\u001b[39;49m\u001b[38;5;241;43m.\u001b[39;49m\u001b[43moptions\u001b[49m\u001b[38;5;241;43m.\u001b[39;49m\u001b[43mget\u001b[49m\u001b[43m(\u001b[49m\u001b[38;5;124;43m\"\u001b[39;49m\u001b[38;5;124;43mencoding_errors\u001b[39;49m\u001b[38;5;124;43m\"\u001b[39;49m\u001b[43m,\u001b[49m\u001b[43m \u001b[49m\u001b[38;5;124;43m\"\u001b[39;49m\u001b[38;5;124;43mstrict\u001b[39;49m\u001b[38;5;124;43m\"\u001b[39;49m\u001b[43m)\u001b[49m\u001b[43m,\u001b[49m\n\u001b[1;32m   1888\u001b[0m \u001b[43m    \u001b[49m\u001b[43mstorage_options\u001b[49m\u001b[38;5;241;43m=\u001b[39;49m\u001b[38;5;28;43mself\u001b[39;49m\u001b[38;5;241;43m.\u001b[39;49m\u001b[43moptions\u001b[49m\u001b[38;5;241;43m.\u001b[39;49m\u001b[43mget\u001b[49m\u001b[43m(\u001b[49m\u001b[38;5;124;43m\"\u001b[39;49m\u001b[38;5;124;43mstorage_options\u001b[39;49m\u001b[38;5;124;43m\"\u001b[39;49m\u001b[43m,\u001b[49m\u001b[43m \u001b[49m\u001b[38;5;28;43;01mNone\u001b[39;49;00m\u001b[43m)\u001b[49m\u001b[43m,\u001b[49m\n\u001b[1;32m   1889\u001b[0m \u001b[43m\u001b[49m\u001b[43m)\u001b[49m\n\u001b[1;32m   1890\u001b[0m \u001b[38;5;28;01massert\u001b[39;00m \u001b[38;5;28mself\u001b[39m\u001b[38;5;241m.\u001b[39mhandles \u001b[38;5;129;01mis\u001b[39;00m \u001b[38;5;129;01mnot\u001b[39;00m \u001b[38;5;28;01mNone\u001b[39;00m\n\u001b[1;32m   1891\u001b[0m f \u001b[38;5;241m=\u001b[39m \u001b[38;5;28mself\u001b[39m\u001b[38;5;241m.\u001b[39mhandles\u001b[38;5;241m.\u001b[39mhandle\n",
      "File \u001b[0;32m/opt/conda/lib/python3.10/site-packages/pandas/io/common.py:873\u001b[0m, in \u001b[0;36mget_handle\u001b[0;34m(path_or_buf, mode, encoding, compression, memory_map, is_text, errors, storage_options)\u001b[0m\n\u001b[1;32m    868\u001b[0m \u001b[38;5;28;01melif\u001b[39;00m \u001b[38;5;28misinstance\u001b[39m(handle, \u001b[38;5;28mstr\u001b[39m):\n\u001b[1;32m    869\u001b[0m     \u001b[38;5;66;03m# Check whether the filename is to be opened in binary mode.\u001b[39;00m\n\u001b[1;32m    870\u001b[0m     \u001b[38;5;66;03m# Binary mode does not support 'encoding' and 'newline'.\u001b[39;00m\n\u001b[1;32m    871\u001b[0m     \u001b[38;5;28;01mif\u001b[39;00m ioargs\u001b[38;5;241m.\u001b[39mencoding \u001b[38;5;129;01mand\u001b[39;00m \u001b[38;5;124m\"\u001b[39m\u001b[38;5;124mb\u001b[39m\u001b[38;5;124m\"\u001b[39m \u001b[38;5;129;01mnot\u001b[39;00m \u001b[38;5;129;01min\u001b[39;00m ioargs\u001b[38;5;241m.\u001b[39mmode:\n\u001b[1;32m    872\u001b[0m         \u001b[38;5;66;03m# Encoding\u001b[39;00m\n\u001b[0;32m--> 873\u001b[0m         handle \u001b[38;5;241m=\u001b[39m \u001b[38;5;28;43mopen\u001b[39;49m\u001b[43m(\u001b[49m\n\u001b[1;32m    874\u001b[0m \u001b[43m            \u001b[49m\u001b[43mhandle\u001b[49m\u001b[43m,\u001b[49m\n\u001b[1;32m    875\u001b[0m \u001b[43m            \u001b[49m\u001b[43mioargs\u001b[49m\u001b[38;5;241;43m.\u001b[39;49m\u001b[43mmode\u001b[49m\u001b[43m,\u001b[49m\n\u001b[1;32m    876\u001b[0m \u001b[43m            \u001b[49m\u001b[43mencoding\u001b[49m\u001b[38;5;241;43m=\u001b[39;49m\u001b[43mioargs\u001b[49m\u001b[38;5;241;43m.\u001b[39;49m\u001b[43mencoding\u001b[49m\u001b[43m,\u001b[49m\n\u001b[1;32m    877\u001b[0m \u001b[43m            \u001b[49m\u001b[43merrors\u001b[49m\u001b[38;5;241;43m=\u001b[39;49m\u001b[43merrors\u001b[49m\u001b[43m,\u001b[49m\n\u001b[1;32m    878\u001b[0m \u001b[43m            \u001b[49m\u001b[43mnewline\u001b[49m\u001b[38;5;241;43m=\u001b[39;49m\u001b[38;5;124;43m\"\u001b[39;49m\u001b[38;5;124;43m\"\u001b[39;49m\u001b[43m,\u001b[49m\n\u001b[1;32m    879\u001b[0m \u001b[43m        \u001b[49m\u001b[43m)\u001b[49m\n\u001b[1;32m    880\u001b[0m     \u001b[38;5;28;01melse\u001b[39;00m:\n\u001b[1;32m    881\u001b[0m         \u001b[38;5;66;03m# Binary mode\u001b[39;00m\n\u001b[1;32m    882\u001b[0m         handle \u001b[38;5;241m=\u001b[39m \u001b[38;5;28mopen\u001b[39m(handle, ioargs\u001b[38;5;241m.\u001b[39mmode)\n",
      "\u001b[0;31mFileNotFoundError\u001b[0m: [Errno 2] No such file or directory: 'C:/Users/Administrator/Downloads/archive (2)/training.1600000.processed.noemoticon.csv'"
     ]
    }
   ],
   "source": [
    "df = pd.read_csv(\"C:/Users/Administrator/Downloads/archive (2)/training.1600000.processed.noemoticon.csv\",encoding='latin1')"
   ]
  },
  {
   "cell_type": "markdown",
   "metadata": {},
   "source": [
    "# Get the details of Dataset"
   ]
  },
  {
   "cell_type": "code",
   "execution_count": null,
   "metadata": {
    "execution": {
     "iopub.status.busy": "2024-06-17T14:08:33.629907Z",
     "iopub.status.idle": "2024-06-17T14:08:33.630345Z",
     "shell.execute_reply": "2024-06-17T14:08:33.630160Z",
     "shell.execute_reply.started": "2024-06-17T14:08:33.630142Z"
    }
   },
   "outputs": [],
   "source": [
    "print(df.shape)"
   ]
  },
  {
   "cell_type": "code",
   "execution_count": null,
   "metadata": {
    "execution": {
     "iopub.status.busy": "2024-06-17T14:08:33.866012Z",
     "iopub.status.idle": "2024-06-17T14:08:33.866621Z",
     "shell.execute_reply": "2024-06-17T14:08:33.866379Z",
     "shell.execute_reply.started": "2024-06-17T14:08:33.866345Z"
    }
   },
   "outputs": [],
   "source": [
    "df.head()"
   ]
  },
  {
   "cell_type": "code",
   "execution_count": null,
   "metadata": {
    "execution": {
     "iopub.status.busy": "2024-06-17T14:08:33.867819Z",
     "iopub.status.idle": "2024-06-17T14:08:33.868384Z",
     "shell.execute_reply": "2024-06-17T14:08:33.868123Z",
     "shell.execute_reply.started": "2024-06-17T14:08:33.868100Z"
    }
   },
   "outputs": [],
   "source": [
    "df.info()"
   ]
  },
  {
   "cell_type": "code",
   "execution_count": null,
   "metadata": {
    "execution": {
     "iopub.status.busy": "2024-06-17T14:08:33.870645Z",
     "iopub.status.idle": "2024-06-17T14:08:33.871196Z",
     "shell.execute_reply": "2024-06-17T14:08:33.870922Z",
     "shell.execute_reply.started": "2024-06-17T14:08:33.870901Z"
    }
   },
   "outputs": [],
   "source": [
    "df.describe()"
   ]
  },
  {
   "cell_type": "markdown",
   "metadata": {},
   "source": [
    "# Check for null values if any"
   ]
  },
  {
   "cell_type": "code",
   "execution_count": null,
   "metadata": {
    "execution": {
     "iopub.status.busy": "2024-06-17T14:08:33.872863Z",
     "iopub.status.idle": "2024-06-17T14:08:33.873405Z",
     "shell.execute_reply": "2024-06-17T14:08:33.873147Z",
     "shell.execute_reply.started": "2024-06-17T14:08:33.873124Z"
    }
   },
   "outputs": [],
   "source": [
    "df.isnull().sum()"
   ]
  },
  {
   "cell_type": "markdown",
   "metadata": {},
   "source": [
    "# Drop the unnecessary columns"
   ]
  },
  {
   "cell_type": "code",
   "execution_count": null,
   "metadata": {
    "execution": {
     "iopub.status.busy": "2024-06-17T14:08:33.874844Z",
     "iopub.status.idle": "2024-06-17T14:08:33.875312Z",
     "shell.execute_reply": "2024-06-17T14:08:33.875064Z",
     "shell.execute_reply.started": "2024-06-17T14:08:33.875049Z"
    }
   },
   "outputs": [],
   "source": [
    "df.drop(['id of the tweet', 'date of the tweet', 'query', 'user'], axis=1, inplace=True)\n",
    "df.head()"
   ]
  },
  {
   "cell_type": "markdown",
   "metadata": {},
   "source": [
    "# Get the Information of remaining coloumns "
   ]
  },
  {
   "cell_type": "code",
   "execution_count": null,
   "metadata": {
    "execution": {
     "iopub.status.busy": "2024-06-17T14:08:33.876798Z",
     "iopub.status.idle": "2024-06-17T14:08:33.877319Z",
     "shell.execute_reply": "2024-06-17T14:08:33.877060Z",
     "shell.execute_reply.started": "2024-06-17T14:08:33.877039Z"
    }
   },
   "outputs": [],
   "source": [
    "df.columns = ['sentiment', 'text']"
   ]
  },
  {
   "cell_type": "code",
   "execution_count": null,
   "metadata": {
    "execution": {
     "iopub.status.busy": "2024-06-17T14:08:33.879548Z",
     "iopub.status.idle": "2024-06-17T14:08:33.880052Z",
     "shell.execute_reply": "2024-06-17T14:08:33.879814Z",
     "shell.execute_reply.started": "2024-06-17T14:08:33.879793Z"
    }
   },
   "outputs": [],
   "source": [
    "df.info()"
   ]
  },
  {
   "cell_type": "code",
   "execution_count": null,
   "metadata": {
    "execution": {
     "iopub.status.busy": "2024-06-17T14:08:33.881280Z",
     "iopub.status.idle": "2024-06-17T14:08:33.881786Z",
     "shell.execute_reply": "2024-06-17T14:08:33.881550Z",
     "shell.execute_reply.started": "2024-06-17T14:08:33.881530Z"
    }
   },
   "outputs": [],
   "source": [
    "df['sentiment'].value_counts()"
   ]
  },
  {
   "cell_type": "markdown",
   "metadata": {},
   "source": [
    "# Visualize the data"
   ]
  },
  {
   "cell_type": "code",
   "execution_count": null,
   "metadata": {
    "execution": {
     "iopub.status.busy": "2024-06-17T14:08:33.883127Z",
     "iopub.status.idle": "2024-06-17T14:08:33.883636Z",
     "shell.execute_reply": "2024-06-17T14:08:33.883398Z",
     "shell.execute_reply.started": "2024-06-17T14:08:33.883377Z"
    }
   },
   "outputs": [],
   "source": [
    "sns.histplot(df['sentiment'], kde=True, color = 'r')"
   ]
  },
  {
   "cell_type": "code",
   "execution_count": null,
   "metadata": {
    "execution": {
     "iopub.status.busy": "2024-06-17T14:08:33.884829Z",
     "iopub.status.idle": "2024-06-17T14:08:33.885367Z",
     "shell.execute_reply": "2024-06-17T14:08:33.885110Z",
     "shell.execute_reply.started": "2024-06-17T14:08:33.885088Z"
    }
   },
   "outputs": [],
   "source": [
    "sns.countplot(x=df['sentiment'] , color= 'b')"
   ]
  },
  {
   "cell_type": "markdown",
   "metadata": {},
   "source": [
    "# Tokenizing the words"
   ]
  },
  {
   "cell_type": "code",
   "execution_count": null,
   "metadata": {
    "execution": {
     "iopub.status.busy": "2024-06-17T14:08:33.887056Z",
     "iopub.status.idle": "2024-06-17T14:08:33.887582Z",
     "shell.execute_reply": "2024-06-17T14:08:33.887338Z",
     "shell.execute_reply.started": "2024-06-17T14:08:33.887317Z"
    }
   },
   "outputs": [],
   "source": [
    "word_tokens = [word_tokenize(i) for i in df[\"text\"]]"
   ]
  },
  {
   "cell_type": "code",
   "execution_count": null,
   "metadata": {
    "execution": {
     "iopub.status.busy": "2024-06-17T14:08:33.888858Z",
     "iopub.status.idle": "2024-06-17T14:08:33.889279Z",
     "shell.execute_reply": "2024-06-17T14:08:33.889053Z",
     "shell.execute_reply.started": "2024-06-17T14:08:33.889038Z"
    }
   },
   "outputs": [],
   "source": [
    "word_tokens[:3]"
   ]
  },
  {
   "cell_type": "markdown",
   "metadata": {},
   "source": [
    "# Applying Regular Expression Pattern for removing alphanumeric characters and one or more occurrences of the preceding character"
   ]
  },
  {
   "cell_type": "code",
   "execution_count": null,
   "metadata": {
    "execution": {
     "iopub.status.busy": "2024-06-17T14:08:33.891195Z",
     "iopub.status.idle": "2024-06-17T14:08:33.891570Z",
     "shell.execute_reply": "2024-06-17T14:08:33.891401Z",
     "shell.execute_reply.started": "2024-06-17T14:08:33.891386Z"
    }
   },
   "outputs": [],
   "source": [
    "removal = RegexpTokenizer(r\"\\w+\")"
   ]
  },
  {
   "cell_type": "code",
   "execution_count": null,
   "metadata": {
    "execution": {
     "iopub.status.busy": "2024-06-17T14:08:33.893203Z",
     "iopub.status.idle": "2024-06-17T14:08:33.893726Z",
     "shell.execute_reply": "2024-06-17T14:08:33.893477Z",
     "shell.execute_reply.started": "2024-06-17T14:08:33.893456Z"
    }
   },
   "outputs": [],
   "source": [
    "new_sentiments = [removal.tokenize(i) for i in df[\"text\"]]"
   ]
  },
  {
   "cell_type": "code",
   "execution_count": null,
   "metadata": {
    "execution": {
     "iopub.status.busy": "2024-06-17T14:08:33.895402Z",
     "iopub.status.idle": "2024-06-17T14:08:33.895916Z",
     "shell.execute_reply": "2024-06-17T14:08:33.895663Z",
     "shell.execute_reply.started": "2024-06-17T14:08:33.895643Z"
    }
   },
   "outputs": [],
   "source": [
    "new_sentiments[:3]"
   ]
  },
  {
   "cell_type": "markdown",
   "metadata": {},
   "source": [
    "# Applying Join on list of strings to form a complete sentence"
   ]
  },
  {
   "cell_type": "code",
   "execution_count": null,
   "metadata": {
    "execution": {
     "iopub.status.busy": "2024-06-17T14:08:33.898028Z",
     "iopub.status.idle": "2024-06-17T14:08:33.898463Z",
     "shell.execute_reply": "2024-06-17T14:08:33.898286Z",
     "shell.execute_reply.started": "2024-06-17T14:08:33.898269Z"
    }
   },
   "outputs": [],
   "source": [
    "new_strings = [\" \".join(i) for i in new_sentiments]"
   ]
  },
  {
   "cell_type": "code",
   "execution_count": null,
   "metadata": {
    "execution": {
     "iopub.status.busy": "2024-06-17T14:08:33.900209Z",
     "iopub.status.idle": "2024-06-17T14:08:33.900628Z",
     "shell.execute_reply": "2024-06-17T14:08:33.900449Z",
     "shell.execute_reply.started": "2024-06-17T14:08:33.900433Z"
    }
   },
   "outputs": [],
   "source": [
    "new_strings[:3]"
   ]
  },
  {
   "cell_type": "markdown",
   "metadata": {},
   "source": [
    "# Removing Stopwords"
   ]
  },
  {
   "cell_type": "code",
   "execution_count": null,
   "metadata": {
    "execution": {
     "iopub.status.busy": "2024-06-17T14:08:33.901829Z",
     "iopub.status.idle": "2024-06-17T14:08:33.902239Z",
     "shell.execute_reply": "2024-06-17T14:08:33.902025Z",
     "shell.execute_reply.started": "2024-06-17T14:08:33.902010Z"
    }
   },
   "outputs": [],
   "source": [
    "sw = set(stopwords.words(\"english\"))"
   ]
  },
  {
   "cell_type": "code",
   "execution_count": null,
   "metadata": {
    "execution": {
     "iopub.status.busy": "2024-06-17T14:08:33.904244Z",
     "iopub.status.idle": "2024-06-17T14:08:33.904626Z",
     "shell.execute_reply": "2024-06-17T14:08:33.904453Z",
     "shell.execute_reply.started": "2024-06-17T14:08:33.904438Z"
    }
   },
   "outputs": [],
   "source": [
    "new_str_tokens = [word_tokenize(i) for i in new_strings]"
   ]
  },
  {
   "cell_type": "code",
   "execution_count": null,
   "metadata": {
    "execution": {
     "iopub.status.busy": "2024-06-17T14:08:33.906374Z",
     "iopub.status.idle": "2024-06-17T14:08:33.906769Z",
     "shell.execute_reply": "2024-06-17T14:08:33.906594Z",
     "shell.execute_reply.started": "2024-06-17T14:08:33.906578Z"
    }
   },
   "outputs": [],
   "source": [
    "new_str_tokens[:3]"
   ]
  },
  {
   "cell_type": "code",
   "execution_count": null,
   "metadata": {
    "execution": {
     "iopub.status.busy": "2024-06-17T14:08:33.908276Z",
     "iopub.status.idle": "2024-06-17T14:08:33.908794Z",
     "shell.execute_reply": "2024-06-17T14:08:33.908553Z",
     "shell.execute_reply.started": "2024-06-17T14:08:33.908531Z"
    }
   },
   "outputs": [],
   "source": [
    "updated_strings = [[word for word in i if not word in sw] for i in new_str_tokens]"
   ]
  },
  {
   "cell_type": "code",
   "execution_count": null,
   "metadata": {
    "execution": {
     "iopub.status.busy": "2024-06-17T14:08:33.910329Z",
     "iopub.status.idle": "2024-06-17T14:08:33.910840Z",
     "shell.execute_reply": "2024-06-17T14:08:33.910603Z",
     "shell.execute_reply.started": "2024-06-17T14:08:33.910582Z"
    }
   },
   "outputs": [],
   "source": [
    "updated_strings[:3]"
   ]
  },
  {
   "cell_type": "markdown",
   "metadata": {},
   "source": [
    "# Applying join to form a complete sentence"
   ]
  },
  {
   "cell_type": "code",
   "execution_count": null,
   "metadata": {
    "execution": {
     "iopub.status.busy": "2024-06-17T14:08:33.911986Z",
     "iopub.status.idle": "2024-06-17T14:08:33.912411Z",
     "shell.execute_reply": "2024-06-17T14:08:33.912233Z",
     "shell.execute_reply.started": "2024-06-17T14:08:33.912217Z"
    }
   },
   "outputs": [],
   "source": [
    "dummy_str = [\" \".join(i) for i in updated_strings]\n",
    "dummy_str[:3]"
   ]
  },
  {
   "cell_type": "code",
   "execution_count": null,
   "metadata": {
    "execution": {
     "iopub.status.busy": "2024-06-17T14:08:33.914291Z",
     "iopub.status.idle": "2024-06-17T14:08:33.914830Z",
     "shell.execute_reply": "2024-06-17T14:08:33.914589Z",
     "shell.execute_reply.started": "2024-06-17T14:08:33.914568Z"
    }
   },
   "outputs": [],
   "source": [
    "df[\"text\"] = dummy_str"
   ]
  },
  {
   "cell_type": "code",
   "execution_count": null,
   "metadata": {
    "execution": {
     "iopub.status.busy": "2024-06-17T14:08:33.915959Z",
     "iopub.status.idle": "2024-06-17T14:08:33.916485Z",
     "shell.execute_reply": "2024-06-17T14:08:33.916237Z",
     "shell.execute_reply.started": "2024-06-17T14:08:33.916215Z"
    }
   },
   "outputs": [],
   "source": [
    "df.head()"
   ]
  },
  {
   "cell_type": "code",
   "execution_count": null,
   "metadata": {
    "execution": {
     "iopub.status.busy": "2024-06-17T14:08:33.918403Z",
     "iopub.status.idle": "2024-06-17T14:08:33.918909Z",
     "shell.execute_reply": "2024-06-17T14:08:33.918670Z",
     "shell.execute_reply.started": "2024-06-17T14:08:33.918649Z"
    }
   },
   "outputs": [],
   "source": [
    "df[\"sentiment\"].value_counts()"
   ]
  },
  {
   "cell_type": "code",
   "execution_count": null,
   "metadata": {
    "execution": {
     "iopub.status.busy": "2024-06-17T14:08:33.920560Z",
     "iopub.status.idle": "2024-06-17T14:08:33.921057Z",
     "shell.execute_reply": "2024-06-17T14:08:33.920822Z",
     "shell.execute_reply.started": "2024-06-17T14:08:33.920800Z"
    }
   },
   "outputs": [],
   "source": [
    "df[\"sentiment\"].unique()"
   ]
  },
  {
   "cell_type": "markdown",
   "metadata": {},
   "source": [
    "# Applying Tokenizer"
   ]
  },
  {
   "cell_type": "code",
   "execution_count": null,
   "metadata": {
    "execution": {
     "iopub.status.busy": "2024-06-17T14:08:33.922736Z",
     "iopub.status.idle": "2024-06-17T14:08:33.923132Z",
     "shell.execute_reply": "2024-06-17T14:08:33.922934Z",
     "shell.execute_reply.started": "2024-06-17T14:08:33.922919Z"
    }
   },
   "outputs": [],
   "source": [
    "tokenizer = Tokenizer()"
   ]
  },
  {
   "cell_type": "code",
   "execution_count": null,
   "metadata": {
    "execution": {
     "iopub.status.busy": "2024-06-17T14:08:33.924671Z",
     "iopub.status.idle": "2024-06-17T14:08:33.925051Z",
     "shell.execute_reply": "2024-06-17T14:08:33.924879Z",
     "shell.execute_reply.started": "2024-06-17T14:08:33.924863Z"
    }
   },
   "outputs": [],
   "source": [
    "tokenizer.fit_on_texts(df[\"text\"])"
   ]
  },
  {
   "cell_type": "code",
   "execution_count": null,
   "metadata": {
    "execution": {
     "iopub.status.busy": "2024-06-17T14:08:33.927386Z",
     "iopub.status.idle": "2024-06-17T14:08:33.927893Z",
     "shell.execute_reply": "2024-06-17T14:08:33.927651Z",
     "shell.execute_reply.started": "2024-06-17T14:08:33.927630Z"
    }
   },
   "outputs": [],
   "source": [
    "tokens = tokenizer.texts_to_sequences(df[\"text\"])"
   ]
  },
  {
   "cell_type": "code",
   "execution_count": null,
   "metadata": {
    "execution": {
     "iopub.status.busy": "2024-06-17T14:08:33.929143Z",
     "iopub.status.idle": "2024-06-17T14:08:33.929665Z",
     "shell.execute_reply": "2024-06-17T14:08:33.929428Z",
     "shell.execute_reply.started": "2024-06-17T14:08:33.929407Z"
    }
   },
   "outputs": [],
   "source": [
    "tokens[:5]"
   ]
  },
  {
   "cell_type": "markdown",
   "metadata": {},
   "source": [
    "# Finding the Vocab size"
   ]
  },
  {
   "cell_type": "code",
   "execution_count": null,
   "metadata": {
    "execution": {
     "iopub.status.busy": "2024-06-17T14:08:33.931769Z",
     "iopub.status.idle": "2024-06-17T14:08:33.932191Z",
     "shell.execute_reply": "2024-06-17T14:08:33.931985Z",
     "shell.execute_reply.started": "2024-06-17T14:08:33.931969Z"
    }
   },
   "outputs": [],
   "source": [
    "vocab_size = len(tokenizer.word_index)+1"
   ]
  },
  {
   "cell_type": "code",
   "execution_count": null,
   "metadata": {
    "execution": {
     "iopub.status.busy": "2024-06-17T14:08:33.933155Z",
     "iopub.status.idle": "2024-06-17T14:08:33.933547Z",
     "shell.execute_reply": "2024-06-17T14:08:33.933375Z",
     "shell.execute_reply.started": "2024-06-17T14:08:33.933358Z"
    }
   },
   "outputs": [],
   "source": [
    "vocab_size"
   ]
  },
  {
   "cell_type": "markdown",
   "metadata": {},
   "source": [
    "# Converting a series of text data into a series of sequences of integer indices using a tokenizer object"
   ]
  },
  {
   "cell_type": "code",
   "execution_count": null,
   "metadata": {
    "execution": {
     "iopub.status.busy": "2024-06-17T14:08:33.935233Z",
     "iopub.status.idle": "2024-06-17T14:08:33.935602Z",
     "shell.execute_reply": "2024-06-17T14:08:33.935434Z",
     "shell.execute_reply.started": "2024-06-17T14:08:33.935419Z"
    }
   },
   "outputs": [],
   "source": [
    "seq = tokenizer.texts_to_sequences(df[\"text\"])"
   ]
  },
  {
   "cell_type": "code",
   "execution_count": null,
   "metadata": {
    "execution": {
     "iopub.status.busy": "2024-06-17T14:08:33.936943Z",
     "iopub.status.idle": "2024-06-17T14:08:33.937341Z",
     "shell.execute_reply": "2024-06-17T14:08:33.937163Z",
     "shell.execute_reply.started": "2024-06-17T14:08:33.937147Z"
    }
   },
   "outputs": [],
   "source": [
    "seq[:5]"
   ]
  },
  {
   "cell_type": "markdown",
   "metadata": {},
   "source": [
    "#  Padding a series of sequences of integer indices."
   ]
  },
  {
   "cell_type": "code",
   "execution_count": null,
   "metadata": {
    "execution": {
     "iopub.status.busy": "2024-06-17T14:08:33.938987Z",
     "iopub.status.idle": "2024-06-17T14:08:33.939413Z",
     "shell.execute_reply": "2024-06-17T14:08:33.939232Z",
     "shell.execute_reply.started": "2024-06-17T14:08:33.939216Z"
    }
   },
   "outputs": [],
   "source": [
    "pad_seq = pad_sequences(seq, maxlen=35, padding=\"post\")"
   ]
  },
  {
   "cell_type": "code",
   "execution_count": null,
   "metadata": {
    "execution": {
     "iopub.status.busy": "2024-06-17T14:08:33.940573Z",
     "iopub.status.idle": "2024-06-17T14:08:33.940927Z",
     "shell.execute_reply": "2024-06-17T14:08:33.940764Z",
     "shell.execute_reply.started": "2024-06-17T14:08:33.940750Z"
    }
   },
   "outputs": [],
   "source": [
    "pad_seq"
   ]
  },
  {
   "cell_type": "markdown",
   "metadata": {},
   "source": [
    "# Applying LabelEncoder"
   ]
  },
  {
   "cell_type": "code",
   "execution_count": null,
   "metadata": {
    "execution": {
     "iopub.status.busy": "2024-06-17T14:08:33.942105Z",
     "iopub.status.idle": "2024-06-17T14:08:33.942487Z",
     "shell.execute_reply": "2024-06-17T14:08:33.942321Z",
     "shell.execute_reply.started": "2024-06-17T14:08:33.942291Z"
    }
   },
   "outputs": [],
   "source": [
    "from sklearn.preprocessing import LabelEncoder"
   ]
  },
  {
   "cell_type": "code",
   "execution_count": null,
   "metadata": {
    "execution": {
     "iopub.status.busy": "2024-06-17T14:08:33.944216Z",
     "iopub.status.idle": "2024-06-17T14:08:33.944585Z",
     "shell.execute_reply": "2024-06-17T14:08:33.944419Z",
     "shell.execute_reply.started": "2024-06-17T14:08:33.944404Z"
    }
   },
   "outputs": [],
   "source": [
    "le = LabelEncoder()"
   ]
  },
  {
   "cell_type": "code",
   "execution_count": null,
   "metadata": {
    "execution": {
     "iopub.status.busy": "2024-06-17T14:08:33.945949Z",
     "iopub.status.idle": "2024-06-17T14:08:33.946353Z",
     "shell.execute_reply": "2024-06-17T14:08:33.946172Z",
     "shell.execute_reply.started": "2024-06-17T14:08:33.946155Z"
    }
   },
   "outputs": [],
   "source": [
    "labels = le.fit_transform(df[\"sentiment\"])"
   ]
  },
  {
   "cell_type": "code",
   "execution_count": null,
   "metadata": {
    "execution": {
     "iopub.status.busy": "2024-06-17T14:08:33.947776Z",
     "iopub.status.idle": "2024-06-17T14:08:33.948202Z",
     "shell.execute_reply": "2024-06-17T14:08:33.947992Z",
     "shell.execute_reply.started": "2024-06-17T14:08:33.947976Z"
    }
   },
   "outputs": [],
   "source": [
    "labels"
   ]
  },
  {
   "cell_type": "code",
   "execution_count": null,
   "metadata": {
    "execution": {
     "iopub.status.busy": "2024-06-17T14:08:33.949336Z",
     "iopub.status.idle": "2024-06-17T14:08:33.949722Z",
     "shell.execute_reply": "2024-06-17T14:08:33.949546Z",
     "shell.execute_reply.started": "2024-06-17T14:08:33.949529Z"
    }
   },
   "outputs": [],
   "source": [
    "df.head()"
   ]
  },
  {
   "cell_type": "markdown",
   "metadata": {},
   "source": [
    "# Applying Simple RNN with Sequential Model and Softmax activation "
   ]
  },
  {
   "cell_type": "code",
   "execution_count": null,
   "metadata": {
    "execution": {
     "iopub.status.busy": "2024-06-17T14:08:33.950808Z",
     "iopub.status.idle": "2024-06-17T14:08:33.951204Z",
     "shell.execute_reply": "2024-06-17T14:08:33.950998Z",
     "shell.execute_reply.started": "2024-06-17T14:08:33.950983Z"
    }
   },
   "outputs": [],
   "source": [
    "model = Sequential()\n",
    "model.add(Embedding(input_dim=20000, output_dim=5))\n",
    "model.add(SimpleRNN(32,return_sequences=False))\n",
    "model.add(Dense(3,activation='softmax'))\n",
    "model.summary()"
   ]
  },
  {
   "cell_type": "markdown",
   "metadata": {},
   "source": [
    "# Compiling Model using adam as optimizer"
   ]
  },
  {
   "cell_type": "code",
   "execution_count": null,
   "metadata": {
    "execution": {
     "iopub.status.busy": "2024-06-17T14:08:33.952670Z",
     "iopub.status.idle": "2024-06-17T14:08:33.953028Z",
     "shell.execute_reply": "2024-06-17T14:08:33.952865Z",
     "shell.execute_reply.started": "2024-06-17T14:08:33.952850Z"
    }
   },
   "outputs": [],
   "source": [
    "model.compile(optimizer=\"adam\", loss=\"sparse_categorical_crossentropy\", \n",
    "              metrics=[\"accuracy\"])"
   ]
  },
  {
   "cell_type": "code",
   "execution_count": null,
   "metadata": {
    "execution": {
     "iopub.status.busy": "2024-06-17T14:08:33.954763Z",
     "iopub.status.idle": "2024-06-17T14:08:33.955187Z",
     "shell.execute_reply": "2024-06-17T14:08:33.954975Z",
     "shell.execute_reply.started": "2024-06-17T14:08:33.954960Z"
    }
   },
   "outputs": [],
   "source": [
    "model.fit(pad_seq, labels, epochs=10)"
   ]
  },
  {
   "cell_type": "markdown",
   "metadata": {},
   "source": [
    "# Checking if the model works correctly"
   ]
  },
  {
   "cell_type": "code",
   "execution_count": null,
   "metadata": {
    "execution": {
     "iopub.status.busy": "2024-06-17T14:08:33.956537Z",
     "iopub.status.idle": "2024-06-17T14:08:33.956908Z",
     "shell.execute_reply": "2024-06-17T14:08:33.956743Z",
     "shell.execute_reply.started": "2024-06-17T14:08:33.956727Z"
    }
   },
   "outputs": [],
   "source": [
    "new_text = \"I am happy, As I scored good marks in test\""
   ]
  },
  {
   "cell_type": "code",
   "execution_count": null,
   "metadata": {
    "execution": {
     "iopub.status.busy": "2024-06-17T14:08:33.958185Z",
     "iopub.status.idle": "2024-06-17T14:08:33.958541Z",
     "shell.execute_reply": "2024-06-17T14:08:33.958378Z",
     "shell.execute_reply.started": "2024-06-17T14:08:33.958363Z"
    }
   },
   "outputs": [],
   "source": [
    "new_tokens = tokenizer.texts_to_sequences([new_text])"
   ]
  },
  {
   "cell_type": "code",
   "execution_count": null,
   "metadata": {
    "execution": {
     "iopub.status.busy": "2024-06-17T14:08:33.959807Z",
     "iopub.status.idle": "2024-06-17T14:08:33.960232Z",
     "shell.execute_reply": "2024-06-17T14:08:33.960021Z",
     "shell.execute_reply.started": "2024-06-17T14:08:33.960005Z"
    }
   },
   "outputs": [],
   "source": [
    "new_tokens"
   ]
  },
  {
   "cell_type": "code",
   "execution_count": null,
   "metadata": {
    "execution": {
     "iopub.status.busy": "2024-06-17T14:08:33.961334Z",
     "iopub.status.idle": "2024-06-17T14:08:33.961696Z",
     "shell.execute_reply": "2024-06-17T14:08:33.961525Z",
     "shell.execute_reply.started": "2024-06-17T14:08:33.961510Z"
    }
   },
   "outputs": [],
   "source": [
    "new_pad_seq = pad_sequences(new_tokens, maxlen=35, padding=\"post\")"
   ]
  },
  {
   "cell_type": "code",
   "execution_count": null,
   "metadata": {
    "execution": {
     "iopub.status.busy": "2024-06-17T14:08:33.963465Z",
     "iopub.status.idle": "2024-06-17T14:08:33.963857Z",
     "shell.execute_reply": "2024-06-17T14:08:33.963687Z",
     "shell.execute_reply.started": "2024-06-17T14:08:33.963670Z"
    }
   },
   "outputs": [],
   "source": [
    "new_pad_seq"
   ]
  },
  {
   "cell_type": "code",
   "execution_count": null,
   "metadata": {
    "execution": {
     "iopub.status.busy": "2024-06-17T14:08:33.965891Z",
     "iopub.status.idle": "2024-06-17T14:08:33.966386Z",
     "shell.execute_reply": "2024-06-17T14:08:33.966157Z",
     "shell.execute_reply.started": "2024-06-17T14:08:33.966137Z"
    }
   },
   "outputs": [],
   "source": [
    "predictions = model.predict(new_pad_seq)\n",
    "predicted_class_index = predictions.argmax(axis=-1)\n",
    "if predicted_class_index[0] == 0:\n",
    "    print(\"Negetive Sentiment\");\n",
    "else:\n",
    "    print(\"Positive Sentiment\")"
   ]
  }
 ],
 "metadata": {
  "kaggle": {
   "accelerator": "none",
   "dataSources": [
    {
     "datasetId": 989445,
     "sourceId": 1808590,
     "sourceType": "datasetVersion"
    }
   ],
   "dockerImageVersionId": 30673,
   "isGpuEnabled": false,
   "isInternetEnabled": false,
   "language": "python",
   "sourceType": "notebook"
  },
  "kernelspec": {
   "display_name": "Python 3 (ipykernel)",
   "language": "python",
   "name": "python3"
  },
  "language_info": {
   "codemirror_mode": {
    "name": "ipython",
    "version": 3
   },
   "file_extension": ".py",
   "mimetype": "text/x-python",
   "name": "python",
   "nbconvert_exporter": "python",
   "pygments_lexer": "ipython3",
   "version": "3.11.5"
  }
 },
 "nbformat": 4,
 "nbformat_minor": 4
}
